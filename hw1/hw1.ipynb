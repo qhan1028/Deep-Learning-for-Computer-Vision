{
 "cells": [
  {
   "cell_type": "markdown",
   "metadata": {},
   "source": [
    "## 2. PCA for Eigenfaces\n",
    "* Reference: \n",
    "  * https://sandipanweb.wordpress.com/2018/01/06/eigenfaces-and-a-simple-face-detector-with-pca-svd-in-python/ "
   ]
  },
  {
   "cell_type": "code",
   "execution_count": 5,
   "metadata": {},
   "outputs": [],
   "source": [
    "import cv2\n",
    "from IPython.display import display, Markdown, Latex\n",
    "import matplotlib.pyplot as plt\n",
    "import numpy as np\n",
    "import os\n",
    "import os.path as osp\n",
    "import pandas as pd\n",
    "from sklearn.neighbors import NearestNeighbors\n",
    "\n",
    "plt.rcParams['text.color'] = 'gray'\n",
    "plt.rcParams['axes.labelcolor'] = 'gray'\n",
    "plt.rcParams['image.cmap'] = 'gray'\n",
    "plt.subplots_adjust(top=0.9, bottom=0.1, left=0.1, right=0.9, hspace=0.25, wspace=0.25)\n",
    "size_unit = 2"
   ]
  },
  {
   "cell_type": "code",
   "execution_count": 2,
   "metadata": {},
   "outputs": [],
   "source": [
    "def p2_preprocess(dirpath='p2_data', n_persons=40, n_images=10, n_train=6, n_test=4, shuffle=False):\n",
    "    # read images\n",
    "    person_imgs, person_clss = [], []\n",
    "    for i in range(n_persons):\n",
    "        imgs, clss = [], []\n",
    "        for j in range(n_images):\n",
    "            imgs += [cv2.imread(osp.join(dirpath, \"{:d}_{:d}.png\".format(i + 1, j + 1)), 0)]\n",
    "            clss += [i]\n",
    "        person_imgs += [imgs]\n",
    "        person_clss += [clss]\n",
    "    person_imgs = np.array(person_imgs)\n",
    "    person_clss = np.array(person_clss)\n",
    "    \n",
    "    # split training / testing\n",
    "    indices = np.arange(n_train + n_test)\n",
    "    if shuffle:\n",
    "        np.random.shuffle(indices)\n",
    "    train_indices, test_indices = indices[:n_train], indices[-n_test:]\n",
    "    \n",
    "    return person_imgs[:, train_indices], person_clss[:, train_indices], person_imgs[:, test_indices], person_clss[:, test_indices]"
   ]
  },
  {
   "cell_type": "code",
   "execution_count": 42,
   "metadata": {},
   "outputs": [],
   "source": [
    "def err_cnt(y1, y2):\n",
    "    return np.sum(np.sign(np.abs(y1 - y2)))\n",
    "\n",
    "\n",
    "def pca(XT_raw):\n",
    "    XT_mean = np.mean(XT_raw, axis=0)\n",
    "    XT = XT_raw - XT_mean\n",
    "    U, Sigma, VT = np.linalg.svd(XT, full_matrices=False)\n",
    "    #XT_mean, VT = cv2.PCACompute(XT, mean=XT_mean.reshape(1, -1), maxComponents=n_persons * n_images)\n",
    "    #print('XT = U * Sigma * VT:', XT.shape, U.shape, Sigma.shape, VT.shape)\n",
    "    return XT, XT_mean, VT\n",
    "\n",
    "\n",
    "def knn(k, points, Y, test_points):\n",
    "    nbrs = NearestNeighbors(n_neighbors=k, algorithm='auto').fit(points)\n",
    "    distances, indices = nbrs.kneighbors(test_points)\n",
    "    neighbors_Y, vote_Y= Y[indices], []\n",
    "    for neighbors in neighbors_Y:\n",
    "        vote_Y += [np.argmax(np.bincount(neighbors))]\n",
    "    return np.array(vote_Y)"
   ]
  },
  {
   "cell_type": "code",
   "execution_count": 83,
   "metadata": {},
   "outputs": [],
   "source": [
    "def p2(person_imgs_train, person_clss_train, person_imgs_test, person_clss_test, test=False):\n",
    "    n_persons, n_images, h, w = person_imgs_train.shape\n",
    "    XT_raw = person_imgs_train.reshape((n_persons * n_images, -1))\n",
    "    XT, XT_mean, VT = pca(XT_raw)\n",
    "    Y = person_clss_train.flatten()\n",
    "    \n",
    "    #print(VT[:20].T)\n",
    "    PT = np.dot(XT, VT[:3].T)\n",
    "    print(np.dot(PT, VT[:3])[0] + XT_mean)\n",
    "    \n",
    "    display(Markdown('### 2.1.'))\n",
    "    rows, cols = 1, 5\n",
    "    fig, ax = plt.subplots(rows, cols, figsize=(cols * size_unit, rows * size_unit))\n",
    "    \n",
    "    for i in range(5):\n",
    "        if i == 0:\n",
    "            ax[i].imshow(XT_mean.reshape((h, w)))\n",
    "            ax[i].set_title(\"Mean Face\")\n",
    "        else:\n",
    "            ax[i].imshow(VT[i-1].reshape((h, w)))\n",
    "            ax[i].set_title(\"Eigenface {:d}\".format(i))\n",
    "\n",
    "    plt.setp(ax, xticks=[], yticks=[]); plt.show()\n",
    "    \n",
    "    # test 100 eigenfaces\n",
    "    if test:\n",
    "        rows, cols = 10, 10\n",
    "        fig, ax = plt.subplots(rows, cols, figsize=(cols * size_unit, rows * size_unit))        \n",
    "        \n",
    "        for i in range(100):\n",
    "            r, c = int(i / 10), int(i % 10)\n",
    "            ax[r, c].imshow(VT[i].reshape((h, w)))\n",
    "            ax[r, c].set_title(\"{:d}\".format(i + 1))\n",
    "            \n",
    "        plt.setp(ax, xticks=[], yticks=[]); plt.show()\n",
    "\n",
    "    display(Markdown('### 2.2. 2.3.'))\n",
    "    rows, cols = 1, 5\n",
    "    fig, ax = plt.subplots(rows, cols, figsize=(cols * size_unit, rows * size_unit))\n",
    "    original_img = XT[0]\n",
    "    n_eigenfaces = [3, 45, 140, 229, len(VT)]\n",
    "    \n",
    "    for i, n in enumerate(n_eigenfaces):\n",
    "        projection_T = np.dot(original_img, VT[:n].T)\n",
    "        reconstruction_T = np.dot(projection_T, VT[:n])\n",
    "        mse = np.mean((original_img - reconstruction_T) ** 2)\n",
    "        ax[i].imshow(reconstruction_T.reshape((h, w)))\n",
    "        ax[i].set_title(\"n={:d}\".format(n))\n",
    "        ax[i].set_xlabel('mse={:.2f}'.format(mse))\n",
    "        \n",
    "    plt.setp(ax, xticks=[], yticks=[]); plt.show()\n",
    "        \n",
    "    display(Markdown('### 2.4.'))\n",
    "    m_fold_cross_validation = 3\n",
    "    fold_size = int(n_images / m_fold_cross_validation)\n",
    "    indices = np.arange(n_images)\n",
    "    \n",
    "    n_eigenfaces = [3, 45, 140]\n",
    "    k_nearest_neighbors = [1, 3, 5]\n",
    "    errors = np.zeros((len(n_eigenfaces), len(k_nearest_neighbors)))\n",
    "    \n",
    "    for m in range(m_fold_cross_validation):\n",
    "        # split train / validation to each person, not to all images (XT)\n",
    "        train_indices, val_indices = indices[fold_size:], indices[:fold_size]\n",
    "        XT_raw_train = person_imgs_train[:, train_indices].reshape((n_persons * len(train_indices), -1))\n",
    "        XT_raw_val   = person_imgs_train[:, val_indices].reshape((n_persons * len(val_indices), -1))\n",
    "        Y_train = person_clss_train[:, train_indices].flatten()\n",
    "        Y_val   = person_clss_train[:, val_indices].flatten()\n",
    "        # compute eigenfaces by training data\n",
    "        XT_train, XT_train_mean, VT_train = pca(XT_raw_train)\n",
    "        \n",
    "        for i, n in enumerate(n_eigenfaces):\n",
    "            # project training and validation data onto eigen space\n",
    "            V_train = VT_train[:n].T\n",
    "            PT_train = np.dot(XT_train, V_train)\n",
    "            PT_val = np.dot(XT_raw_val - XT_train_mean, V_train)\n",
    "            \n",
    "            for j, k in enumerate(k_nearest_neighbors):\n",
    "                # find k-nearest-neighbors for each validation data\n",
    "                Y_val_pred = knn(k, PT_train, Y_train, PT_val)\n",
    "                err_val = err_cnt(Y_val_pred, Y_val)\n",
    "                #print('fold={:d}, #eigenfaces={:d}, #neighbors={:d}, err={:d}'.format(m, n, k, err_val))\n",
    "                errors[i, j] += err_val\n",
    "                \n",
    "        indices = np.roll(indices, -fold_size)\n",
    "    \n",
    "    display(Markdown('* Error Count'))\n",
    "    errors = errors / m_fold_cross_validation\n",
    "    display(pd.DataFrame(np.round(errors, 2), index=['n=%d' % n for n in n_eigenfaces], columns=['k=%d' % k for k in k_nearest_neighbors]))\n",
    "    display(Markdown('* Accuracy'))\n",
    "    accuracy = 1 - errors / len(Y_val)\n",
    "    display(pd.DataFrame(np.round(accuracy, 4), index=['n=%d' % n for n in n_eigenfaces], columns=['k=%d' % k for k in k_nearest_neighbors]))\n",
    "    \n",
    "    best_n, best_k = np.where(errors == np.min(errors))\n",
    "    best_n, best_k = n_eigenfaces[best_n[0]], k_nearest_neighbors[best_k[0]]\n",
    "    display(Markdown('* Best $(n, k)$ = $({:d}, {:d})$'.format(best_n, best_k)))\n",
    "    \n",
    "    display(Markdown('### 2.5.'))\n",
    "    n_persons_test, n_images_test, _, _ = person_imgs_test.shape\n",
    "    XT_raw_test = person_imgs_test.reshape((n_persons_test * n_images_test, -1)) # reshape test data\n",
    "    Y_test = person_clss_test.flatten() # gt of test data\n",
    "    \n",
    "    XT_train, XT_train_mean, VT_train = pca(XT_raw) # compute eigenfaces from training data\n",
    "    PT = np.dot(XT, VT_train[:best_n].T) # project to eigen space\n",
    "    PT_test = np.dot(XT_raw_test - XT_train_mean, VT_train[:best_n].T) # project to eigen space\n",
    "    \n",
    "    Y_test_pred = knn(best_k, PT, Y, PT_test)\n",
    "    err_test = err_cnt(Y_test_pred, Y_test)\n",
    "    display(Markdown(('* Test Error = ${:d}$'.format(err_test))))"
   ]
  },
  {
   "cell_type": "code",
   "execution_count": 84,
   "metadata": {},
   "outputs": [
    {
     "name": "stdout",
     "output_type": "stream",
     "text": [
      "[135.26143122 135.16660163 135.49893863 ...  88.43906865  91.1640751\n",
      "  93.15852385]\n"
     ]
    },
    {
     "data": {
      "text/markdown": [
       "### 2.1."
      ],
      "text/plain": [
       "<IPython.core.display.Markdown object>"
      ]
     },
     "metadata": {},
     "output_type": "display_data"
    },
    {
     "data": {
      "image/png": "[encoded data removed]",
      "text/plain": [
       "<Figure size 720x144 with 5 Axes>"
      ]
     },
     "metadata": {},
     "output_type": "display_data"
    },
    {
     "data": {
      "text/markdown": [
       "### 2.2. 2.3."
      ],
      "text/plain": [
       "<IPython.core.display.Markdown object>"
      ]
     },
     "metadata": {},
     "output_type": "display_data"
    },
    {
     "data": {
      "image/png": "[encoded data removed]",
      "text/plain": [
       "<Figure size 720x144 with 5 Axes>"
      ]
     },
     "metadata": {},
     "output_type": "display_data"
    },
    {
     "data": {
      "text/markdown": [
       "### 2.4."
      ],
      "text/plain": [
       "<IPython.core.display.Markdown object>"
      ]
     },
     "metadata": {},
     "output_type": "display_data"
    },
    {
     "data": {
      "text/markdown": [
       "* Error Count"
      ],
      "text/plain": [
       "<IPython.core.display.Markdown object>"
      ]
     },
     "metadata": {},
     "output_type": "display_data"
    },
    {
     "data": {
      "text/html": [
       "<div>\n",
       "<style scoped>\n",
       "    .dataframe tbody tr th:only-of-type {\n",
       "        vertical-align: middle;\n",
       "    }\n",
       "\n",
       "    .dataframe tbody tr th {\n",
       "        vertical-align: top;\n",
       "    }\n",
       "\n",
       "    .dataframe thead th {\n",
       "        text-align: right;\n",
       "    }\n",
       "</style>\n",
       "<table border=\"1\" class=\"dataframe\">\n",
       "  <thead>\n",
       "    <tr style=\"text-align: right;\">\n",
       "      <th></th>\n",
       "      <th>k=1</th>\n",
       "      <th>k=3</th>\n",
       "      <th>k=5</th>\n",
       "    </tr>\n",
       "  </thead>\n",
       "  <tbody>\n",
       "    <tr>\n",
       "      <th>n=3</th>\n",
       "      <td>25.67</td>\n",
       "      <td>32.33</td>\n",
       "      <td>38.33</td>\n",
       "    </tr>\n",
       "    <tr>\n",
       "      <th>n=45</th>\n",
       "      <td>5.67</td>\n",
       "      <td>13.33</td>\n",
       "      <td>17.33</td>\n",
       "    </tr>\n",
       "    <tr>\n",
       "      <th>n=140</th>\n",
       "      <td>5.33</td>\n",
       "      <td>11.67</td>\n",
       "      <td>19.33</td>\n",
       "    </tr>\n",
       "  </tbody>\n",
       "</table>\n",
       "</div>"
      ],
      "text/plain": [
       "         k=1    k=3    k=5\n",
       "n=3    25.67  32.33  38.33\n",
       "n=45    5.67  13.33  17.33\n",
       "n=140   5.33  11.67  19.33"
      ]
     },
     "metadata": {},
     "output_type": "display_data"
    },
    {
     "data": {
      "text/markdown": [
       "* Accuracy"
      ],
      "text/plain": [
       "<IPython.core.display.Markdown object>"
      ]
     },
     "metadata": {},
     "output_type": "display_data"
    },
    {
     "data": {
      "text/html": [
       "<div>\n",
       "<style scoped>\n",
       "    .dataframe tbody tr th:only-of-type {\n",
       "        vertical-align: middle;\n",
       "    }\n",
       "\n",
       "    .dataframe tbody tr th {\n",
       "        vertical-align: top;\n",
       "    }\n",
       "\n",
       "    .dataframe thead th {\n",
       "        text-align: right;\n",
       "    }\n",
       "</style>\n",
       "<table border=\"1\" class=\"dataframe\">\n",
       "  <thead>\n",
       "    <tr style=\"text-align: right;\">\n",
       "      <th></th>\n",
       "      <th>k=1</th>\n",
       "      <th>k=3</th>\n",
       "      <th>k=5</th>\n",
       "    </tr>\n",
       "  </thead>\n",
       "  <tbody>\n",
       "    <tr>\n",
       "      <th>n=3</th>\n",
       "      <td>0.6792</td>\n",
       "      <td>0.5958</td>\n",
       "      <td>0.5208</td>\n",
       "    </tr>\n",
       "    <tr>\n",
       "      <th>n=45</th>\n",
       "      <td>0.9292</td>\n",
       "      <td>0.8333</td>\n",
       "      <td>0.7833</td>\n",
       "    </tr>\n",
       "    <tr>\n",
       "      <th>n=140</th>\n",
       "      <td>0.9333</td>\n",
       "      <td>0.8542</td>\n",
       "      <td>0.7583</td>\n",
       "    </tr>\n",
       "  </tbody>\n",
       "</table>\n",
       "</div>"
      ],
      "text/plain": [
       "          k=1     k=3     k=5\n",
       "n=3    0.6792  0.5958  0.5208\n",
       "n=45   0.9292  0.8333  0.7833\n",
       "n=140  0.9333  0.8542  0.7583"
      ]
     },
     "metadata": {},
     "output_type": "display_data"
    },
    {
     "data": {
      "text/markdown": [
       "* Best $(n, k)$ = $(140, 1)$"
      ],
      "text/plain": [
       "<IPython.core.display.Markdown object>"
      ]
     },
     "metadata": {},
     "output_type": "display_data"
    },
    {
     "data": {
      "text/markdown": [
       "### 2.5."
      ],
      "text/plain": [
       "<IPython.core.display.Markdown object>"
      ]
     },
     "metadata": {},
     "output_type": "display_data"
    },
    {
     "data": {
      "text/markdown": [
       "* Test Error = $10$"
      ],
      "text/plain": [
       "<IPython.core.display.Markdown object>"
      ]
     },
     "metadata": {},
     "output_type": "display_data"
    }
   ],
   "source": [
    "p2_config = {\n",
    "    'dirpath': 'p2_data', \n",
    "    'n_persons': 40,\n",
    "    'n_images': 10,\n",
    "    'n_train': 6, \n",
    "    'n_test': 4, \n",
    "    'shuffle': False\n",
    "}\n",
    "\n",
    "p2(*p2_preprocess(**p2_config), test=False)"
   ]
  },
  {
   "cell_type": "markdown",
   "metadata": {},
   "source": [
    "## 3."
   ]
  },
  {
   "cell_type": "code",
   "execution_count": 37,
   "metadata": {},
   "outputs": [],
   "source": [
    "def p3_read(dirpath='p3_data', n_classes=4, n_images=500, n_train=375, n_test=125, shuffle=False):\n",
    "    # read images\n",
    "    clss_names = []\n",
    "    for d in os.listdir(dirpath):\n",
    "        clss_names += [d] if osp.isdir(osp.join(dirpath, d)) else []\n",
    "    n_classes = len(clss_names)\n",
    "\n",
    "    imgs = []\n",
    "    for c in clss_names:\n",
    "        clss_imgs = []\n",
    "        clss_dir = osp.join(dirpath, c)\n",
    "        for img_fname in np.sort(os.listdir(clss_dir)):\n",
    "            clss_imgs += [cv2.cvtColor(cv2.imread(osp.join(clss_dir, img_fname)), cv2.COLOR_BGR2RGB)]\n",
    "        imgs += [clss_imgs]\n",
    "    \n",
    "    imgs = np.array(imgs)\n",
    "    clss = np.repeat(np.arange(n_classes), n_images).reshape(n_classes, -1)\n",
    "    \n",
    "    # split training / testing\n",
    "    indices = np.arange(n_train + n_test)\n",
    "    if shuffle:\n",
    "        np.random.shuffle(indices)\n",
    "    train_indices, test_indices = indices[:n_train], indices[-n_test:]\n",
    "    \n",
    "    return imgs[:, train_indices], imgs[:, test_indices], clss[:, train_indices], clss[:, test_indices], clss_names    "
   ]
  },
  {
   "cell_type": "code",
   "execution_count": 81,
   "metadata": {},
   "outputs": [],
   "source": [
    "def \n",
    "\n",
    "def p3_preprocess(X_train, X_test, Y_train, Y_test):\n",
    "    # split patches\n",
    "    n_classes, n_train, h, w, channel = X_train.shape\n",
    "    p_rows, p_cols = 4, 4\n",
    "    p_h, p_w = int(h / p_rows), int(w / p_cols)\n",
    "    X_train_patches = []\n",
    "    for r in range(p_rows):\n",
    "        for c in range(p_cols):\n",
    "            X_train_patches += [X_train[:, :, r*p_h:(r+1)*p_h, c*p_w:(c+1)*p_w]]\n",
    "    X_train_patches = np.swapaxes(np.swapaxes(np.array(X_train_patches), 0, 2), 0, 1)\n",
    "#     print(X_train_patches.shape)\n",
    "#     fig, ax = plt.subplots(p_rows, p_cols, figsize=(8, 8))\n",
    "#     for r in range(p_rows):\n",
    "#         for c in range(p_cols):\n",
    "#             ax[r, c].imshow(X_train_patches[0, 0, r * p_rows + c])\n",
    "#     plt.show()\n",
    "\n",
    "    "
   ]
  },
  {
   "cell_type": "code",
   "execution_count": 40,
   "metadata": {},
   "outputs": [
    {
     "name": "stdout",
     "output_type": "stream",
     "text": [
      "(4, 375, 64, 64, 3)\n"
     ]
    }
   ],
   "source": [
    "train_imgs, test_imgs, train_clss, test_clss, clss_names = p3_read()\n",
    "\n",
    "print(train_imgs.shape)"
   ]
  },
  {
   "cell_type": "code",
   "execution_count": 82,
   "metadata": {},
   "outputs": [
    {
     "name": "stdout",
     "output_type": "stream",
     "text": [
      "(4, 375, 16, 16, 16, 3)\n"
     ]
    },
    {
     "data": {
      "image/png": "[encoded data removed]",
      "text/plain": [
       "<Figure size 576x576 with 16 Axes>"
      ]
     },
     "metadata": {
      "needs_background": "light"
     },
     "output_type": "display_data"
    }
   ],
   "source": [
    "p3_preprocess(train_imgs, test_imgs, train_clss, test_clss)"
   ]
  },
  {
   "cell_type": "code",
   "execution_count": 18,
   "metadata": {},
   "outputs": [
    {
     "data": {
      "text/plain": [
       "array([[0, 0, 0, 0, 0, 0, 0, 0, 0, 0],\n",
       "       [1, 1, 1, 1, 1, 1, 1, 1, 1, 1]])"
      ]
     },
     "execution_count": 18,
     "metadata": {},
     "output_type": "execute_result"
    }
   ],
   "source": [
    "np.repeat(np.arange(2), 10, axis=0).reshape(2, -1)"
   ]
  },
  {
   "cell_type": "code",
   "execution_count": null,
   "metadata": {},
   "outputs": [],
   "source": []
  }
 ],
 "metadata": {
  "kernelspec": {
   "display_name": "Python 3",
   "language": "python",
   "name": "python3"
  },
  "language_info": {
   "codemirror_mode": {
    "name": "ipython",
    "version": 3
   },
   "file_extension": ".py",
   "mimetype": "text/x-python",
   "name": "python",
   "nbconvert_exporter": "python",
   "pygments_lexer": "ipython3",
   "version": "3.7.2"
  }
 },
 "nbformat": 4,
 "nbformat_minor": 2
}
